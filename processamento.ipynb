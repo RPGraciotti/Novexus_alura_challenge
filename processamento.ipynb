{
 "cells": [
  {
   "cell_type": "code",
   "execution_count": 13,
   "metadata": {},
   "outputs": [],
   "source": [
    "### Arquivo de preparação que será convertido em .py\n",
    "\n",
    "import numpy as np\n",
    "import pandas as pd\n",
    "import json\n",
    "\n",
    "\n",
    "def leitura_dados(path):\n",
    "\n",
    "    with open(file = path) as f:\n",
    "        file = json.load(f)\n",
    "\n",
    "    df = pd.json_normalize(file)\n",
    "\n",
    "    return(df)\n",
    "\n",
    "\n",
    "def limpeza_e_tratamento(df):\n",
    "    \n",
    "    df.loc[df[df['account.Charges.Total'] == \" \"].index, 'account.Charges.Total'] = df.loc[df[df['account.Charges.Total'] == \" \"].index, 'account.Charges.Monthly']\n",
    "\n",
    "    df['account.Charges.Total'] = df['account.Charges.Total'].astype(float)\n",
    "\n",
    "    df_sem_vazio = df[df['Churn'] != ''].copy()\n",
    "    df_sem_vazio.reset_index(drop = True, inplace = True)\n",
    "\n",
    "    colunas_binarias = ['Churn', 'customer.gender', 'customer.SeniorCitizen', 'customer.Partner', 'customer.Dependents', 'phone.PhoneService', 'account.PaperlessBilling']\n",
    "\n",
    "    bin = {\n",
    "        'No': 0,\n",
    "        'Yes' : 1,\n",
    "        'Female' : 0,\n",
    "        'Male' : 1\n",
    "    }\n",
    "\n",
    "    df_sem_vazio[colunas_binarias] = df_sem_vazio[colunas_binarias].replace(bin)\n",
    "\n",
    "    df_limpo = df_sem_vazio.copy()\n",
    "    \n",
    "    df_limpo.drop(columns = ['customer.gender', 'phone.PhoneService'], inplace = True)\n",
    "\n",
    "    df_dummies = pd.get_dummies(df_limpo, columns = ['phone.MultipleLines','internet.InternetService','internet.OnlineSecurity','internet.OnlineBackup','internet.DeviceProtection','internet.TechSupport','internet.StreamingTV','internet.StreamingMovies','account.Contract','account.PaymentMethod'])\n",
    "\n",
    "    cols_to_remove = df_dummies.filter(like = 'No internet service').columns\n",
    "    df_dummies.drop(columns = cols_to_remove, inplace = True)\n",
    "\n",
    "    df_final = df_dummies.copy()\n",
    "\n",
    "    return(df_final)"
   ]
  }
 ],
 "metadata": {
  "kernelspec": {
   "display_name": "base",
   "language": "python",
   "name": "python3"
  },
  "language_info": {
   "codemirror_mode": {
    "name": "ipython",
    "version": 3
   },
   "file_extension": ".py",
   "mimetype": "text/x-python",
   "name": "python",
   "nbconvert_exporter": "python",
   "pygments_lexer": "ipython3",
   "version": "3.9.13"
  },
  "orig_nbformat": 4
 },
 "nbformat": 4,
 "nbformat_minor": 2
}
