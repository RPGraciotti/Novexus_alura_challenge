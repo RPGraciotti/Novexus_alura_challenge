{
 "cells": [
  {
   "cell_type": "code",
   "execution_count": 1,
   "metadata": {},
   "outputs": [],
   "source": [
    "# Preparação dos dados e fit do modelo\n",
    "\n",
    "import numpy as np\n",
    "import pandas as pd\n",
    "import json\n",
    "import joblib\n",
    "from sklearn.model_selection import train_test_split\n",
    "from sklearn.model_selection import RepeatedStratifiedKFold\n",
    "from imblearn.combine import SMOTEENN\n",
    "from sklearn.preprocessing import StandardScaler\n",
    "from sklearn.model_selection import RandomizedSearchCV\n",
    "from sklearn.naive_bayes import GaussianNB\n",
    "import warnings\n",
    "\n",
    "\n",
    "with open(file = './data/Telco-Customer-Churn.json') as f:\n",
    "    file = json.load(f)\n",
    "\n",
    "df = pd.json_normalize(file)\n",
    "\n",
    "df.loc[df[df['account.Charges.Total'] == \" \"].index, 'account.Charges.Total'] = df.loc[df[df['account.Charges.Total'] == \" \"].index, 'account.Charges.Monthly']\n",
    "\n",
    "df['account.Charges.Total'] = df['account.Charges.Total'].astype(float)\n",
    "\n",
    "df_sem_vazio = df[df['Churn'] != ''].copy()\n",
    "df_sem_vazio.reset_index(drop = True, inplace = True)\n",
    "\n",
    "colunas_binarias = ['Churn', 'customer.gender', 'customer.SeniorCitizen', 'customer.Partner', 'customer.Dependents', 'phone.PhoneService', 'account.PaperlessBilling']\n",
    "\n",
    "bin = {\n",
    "    'No': 0,\n",
    "    'Yes' : 1,\n",
    "    'Female' : 0,\n",
    "    'Male' : 1\n",
    "}\n",
    "\n",
    "df_sem_vazio[colunas_binarias] = df_sem_vazio[colunas_binarias].replace(bin)\n",
    "\n",
    "df_limpo = df_sem_vazio.copy()\n",
    "\n",
    "df_limpo.drop(columns = ['customer.gender', 'phone.PhoneService'], inplace = True)\n",
    "\n",
    "df_dummies = pd.get_dummies(df_limpo, columns = ['phone.MultipleLines','internet.InternetService','internet.OnlineSecurity','internet.OnlineBackup','internet.DeviceProtection','internet.TechSupport','internet.StreamingTV','internet.StreamingMovies','account.Contract','account.PaymentMethod'])\n",
    "\n",
    "cols_to_remove = df_dummies.filter(like = 'No internet service').columns\n",
    "df_dummies.drop(columns = cols_to_remove, inplace = True)\n",
    "\n",
    "df_final = df_dummies.copy()\n",
    "\n",
    "\n"
   ]
  },
  {
   "cell_type": "code",
   "execution_count": null,
   "metadata": {},
   "outputs": [],
   "source": [
    "def prepara_input(df):\n",
    "\n",
    "    df_sample = df_final.sample(frac = 1, random_state = 42).reset_index(drop = True)\n",
    "    y_or = df_sample['Churn']\n",
    "    y_or = y_or.rename('target')\n",
    "    X_or = df_sample.drop(['Churn','customerID'], axis = 1)\n",
    "    split = train_test_split(X_or, y_or, stratify = y_or, test_size = 0.2, random_state = 42)\n",
    "\n",
    "    smote_enn = SMOTEENN(random_state = 42)\n",
    "    X_resampled, y_resampled = smote_enn.fit_resample(split[0], split[2])\n",
    "\n",
    "    scaler = StandardScaler()\n",
    "    X_resampled = scaler.fit_transform(X_resampled)\n",
    "\n",
    "    return  "
   ]
  },
  {
   "cell_type": "code",
   "execution_count": null,
   "metadata": {},
   "outputs": [],
   "source": []
  }
 ],
 "metadata": {
  "kernelspec": {
   "display_name": "base",
   "language": "python",
   "name": "python3"
  },
  "language_info": {
   "codemirror_mode": {
    "name": "ipython",
    "version": 3
   },
   "file_extension": ".py",
   "mimetype": "text/x-python",
   "name": "python",
   "nbconvert_exporter": "python",
   "pygments_lexer": "ipython3",
   "version": "3.9.13"
  },
  "orig_nbformat": 4
 },
 "nbformat": 4,
 "nbformat_minor": 2
}
